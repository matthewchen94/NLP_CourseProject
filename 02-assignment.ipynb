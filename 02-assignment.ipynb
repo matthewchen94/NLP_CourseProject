{
 "cells": [
  {
   "cell_type": "markdown",
   "metadata": {
    "colab_type": "text",
    "id": "W_oI1y6-cY4d"
   },
   "source": [
    "# Homework 2: Word Similarity"
   ]
  },
  {
   "cell_type": "markdown",
   "metadata": {
    "colab_type": "text",
    "collapsed": true,
    "id": "XIBjsAqjcY4e"
   },
   "source": [
    "Student Name:Chiyu Chen\n",
    "\n",
    "Student ID:901265"
   ]
  },
  {
   "cell_type": "markdown",
   "metadata": {
    "colab_type": "text",
    "id": "1Huv7ALVcY4f"
   },
   "source": [
    "## General info"
   ]
  },
  {
   "cell_type": "markdown",
   "metadata": {
    "colab_type": "text",
    "id": "p07JVvoScY4g"
   },
   "source": [
    "<b>Due date</b>: Thursday, 4 June 2020 5pm\n",
    "\n",
    "<b>Submission method</b>: Canvas submission\n",
    "\n",
    "<b>Submission materials</b>: completed copy of this iPython notebook\n",
    "\n",
    "<b>Late submissions</b>: -10% per day (both week and weekend days counted)\n",
    "\n",
    "<b>Marks</b>: 10% of mark for class (with 9% on correctness + 1% on quality and efficiency of your code)\n",
    "\n",
    "**Note**: As we will be implementing neural networks in this assignment, you're encouraged to build your notebook on **colab**. See the programming exercise in workshop-07 (`10-bert.ipynb`) if you are not familiar with colab.\n",
    "\n",
    "<b>Materials</b>: See [Using Jupyter Notebook and Python page](https://canvas.lms.unimelb.edu.au/courses/17601/pages/using-jupyter-notebook-and-python?module_item_id=1678430) on Canvas (under Modules>Resources) for information on the basic setup required for this class, including an iPython notebook viewer and the python packages NLTK, Numpy, Scipy, Matplotlib, Scikit-Learn, and Gensim. In particular, if you are not using a lab computer which already has it installed, we recommend installing all the data for NLTK, since you will need various parts of it to complete this assignment. Deep learning libraries such as keras and pytorch are also allowed.  You can also use any Python built-in packages, but do not use any other 3rd party packages (the packages listed above are all fine to use); if your iPython notebook doesn't run on the marker's machine, you will lose marks. <b> You should use Python 3</b>.  \n",
    "\n",
    "To familiarize yourself with NLTK, here is a free online book:  Steven Bird, Ewan Klein, and Edward Loper (2009). <a href=http://nltk.org/book>Natural Language Processing with Python</a>. O'Reilly Media Inc. You may also consult the <a href=https://www.nltk.org/api/nltk.html>NLTK API</a>.\n",
    "\n",
    "\n",
    "\n",
    "\n",
    "<b>Evaluation</b>: Your iPython notebook should run end-to-end without any errors in a reasonable amount of time, and you must follow all instructions provided below, including specific implementation requirements and instructions for what needs to be printed (please avoid printing output we don't ask for). You should edit the sections below where requested, but leave the rest of the code as is. You should leave the output from running your code in the iPython notebook you submit, to assist with marking. The amount each section is worth is given in parenthesis after the instructions. \n",
    "\n",
    "You will be marked not only on the correctness of your methods, but also the quality and efficency of your code: in particular, you should be careful to use Python built-in functions and operators when appropriate and pick descriptive variable names that adhere to <a href=\"https://www.python.org/dev/peps/pep-0008/\">Python style requirements</a>. If you think it might be unclear what you are doing, you should comment your code to help the marker make sense of it.\n",
    "\n",
    "<b>Updates</b>: Any major changes to the assignment will be announced via Canvas. Minor changes and clarifications will be announced on the discussion board; we recommend you check it regularly.\n",
    "\n",
    "<b>Academic misconduct</b>: For most people, collaboration will form a natural part of the undertaking of this homework, and we encourge you to discuss it in general terms with other students. However, this ultimately is still an individual task, and so reuse of code or other instances of clear influence will be considered cheating. We will be checking submissions for originality and will invoke the University’s <a href=\"http://academichonesty.unimelb.edu.au/policy.html\">Academic Misconduct policy</a> where inappropriate levels of collusion or plagiarism are deemed to have taken place."
   ]
  },
  {
   "cell_type": "markdown",
   "metadata": {
    "colab_type": "text",
    "id": "wseHhYGScY4g"
   },
   "source": [
    "## Overview"
   ]
  },
  {
   "cell_type": "markdown",
   "metadata": {
    "colab_type": "text",
    "id": "wH9UvbJTcY4h"
   },
   "source": [
    "In this homework, you'll be quantifying the similarity between pairs of words of a dataset using different methods with the word co-occurrence in the Brown corpus and synset structure of WordNet. Firstly, you will preprocess the dataset to filter out the rare and ambiguous words. Secondly, you will calculate the similarity scores for pairs of words in the filtered dataset using Lin similarity, NPMI and LSA. Lastly, you will quantify how well these methods work by comparing to a human annotated gold-standard."
   ]
  },
  {
   "cell_type": "markdown",
   "metadata": {
    "colab_type": "text",
    "id": "2ptNKS9CcY4h"
   },
   "source": [
    "## 1. Preprocessing (2 marks)"
   ]
  },
  {
   "cell_type": "markdown",
   "metadata": {
    "colab_type": "text",
    "collapsed": true,
    "id": "V2OlvNAicY4i"
   },
   "source": [
    "### Question 1 (1.0 mark)\n",
    "\n",
    "<b>Instructions</b>: For this homework we will be comparing our methods against a popular dataset of word similarities called <a href=\"http://alfonseca.org/eng/research/wordsim353.html\">Similarity-353</a>. You need to first obtain this dataset, which is on Canvas (assignment 2). The file we will be using is called *set1.tab*. Make sure you save this in the same folder as the notebook.  Except for the header (which should be stripped out), the file is tab formated with the first two columns corresponding to two words, and the third column representing a human-annotated similarity between the two words. <b>You should ignore the subsequent columns</b>.\n",
    "\n",
    "Here shows the first six lines of the file:\n",
    "\n",
    "```\n",
    "Word 1\tWord 2\tHuman (mean)\t1\t2\t3\t4\t5\t6\t7\t8\t9\t10\t11\t12\t13\t\n",
    "love\tsex\t6.77\t9\t6\t8\t8\t7\t8\t8\t4\t7\t2\t6\t7\t8\t\n",
    "tiger\tcat\t7.35\t9\t7\t8\t7\t8\t9\t8.5\t5\t6\t9\t7\t5\t7\t\n",
    "tiger\ttiger\t10.00\t10\t10\t10\t10\t10\t10\t10\t10\t10\t10\t10\t10\t10\t\n",
    "book\tpaper\t7.46\t8\t8\t7\t7\t8\t9\t7\t6\t7\t8\t9\t4\t9\t\n",
    "computer\tkeyboard\t7.62\t8\t7\t9\t9\t8\t8\t7\t7\t6\t8\t10\t3\t9\t\n",
    "```\n",
    "    \n",
    "You should load this file into a Python dictionary (NOTE: in Python, tuples of strings, i.e. (\"tiger\",\"cat\") can serve as the keys of a dictionary to map to their human-annotated similarity). This dataset contains many rare words: we need to filter this dataset in order for it to be better suited to the resources we will use in this assignment. So your first goal is to filter this dataset to generate a smaller test set where you will evaluate your word similarity methods.\n",
    "\n",
    "The first filtering is based on **document frequencies** (not token frequencies) in the Brown corpus, in order to remove rare words. In this homework, **we will be treating the paragraphs of the Brown corpus as our \"documents\"**. You can iterate over them by using the `paras` method of the corpus reader. You should remove tokens that are not alphabetic. Tokens should be lower-cased and lemmatized (lemmatize function provided). Store this preprocessed data in *brown_corpus* object (it will be used for question 4 and 5 later).\n",
    "\n",
    "Now calculate document frequencies for each word type, and use this to remove from your word similarity data any word pairs where at least one of the two words has a document frequency of **$< 8$** in this corpus. You should store all the word pair and similarity mappings in your filtered test set in a dictionary called *filtered_gold_standard*.\n",
    "\n",
    "Note: the document frequency of a word denotes the number of documents that contains the word.\n",
    "\n",
    "**Task**: Filter word pairs from *set1.tab* based on document frequencies. Produce *brown_corpus*, which is a list where each element is a set of words for one paragraph (e.g. the first element in *brown_corpus* should contain all the unique word types for the first paragraph). Produce *filtered_gold_standard*, a dictionary of filtered word pairs with human similarity ratings (the dictionary should have (word1, word2) as keys, and similarity ratings as values).\n",
    "\n",
    "**Check**: Use the assertion statements in *\"For your testing\"* below for the expected *filtered_gold_standard*."
   ]
  },
  {
   "cell_type": "code",
   "execution_count": 2,
   "metadata": {
    "colab": {
     "base_uri": "https://localhost:8080/",
     "height": 139
    },
    "colab_type": "code",
    "executionInfo": {
     "elapsed": 10593,
     "status": "ok",
     "timestamp": 1588139440049,
     "user": {
      "displayName": "Jey Han Lau",
      "photoUrl": "",
      "userId": "09065329932778503205"
     },
     "user_tz": -600
    },
    "id": "szPlY9PIcY4j",
    "outputId": "218560c5-6e80-4a8b-bfaf-5cb46b90f34c",
    "scrolled": true
   },
   "outputs": [
    {
     "name": "stderr",
     "output_type": "stream",
     "text": [
      "[nltk_data] Downloading package brown to /Users/chenchiyu/nltk_data...\n",
      "[nltk_data]   Package brown is already up-to-date!\n",
      "[nltk_data] Downloading package wordnet to\n",
      "[nltk_data]     /Users/chenchiyu/nltk_data...\n",
      "[nltk_data]   Package wordnet is already up-to-date!\n"
     ]
    },
    {
     "name": "stdout",
     "output_type": "stream",
     "text": [
      "94\n",
      "{('love', 'sex'): 6.77, ('tiger', 'cat'): 7.35, ('tiger', 'tiger'): 10.0, ('book', 'paper'): 7.46, ('plane', 'car'): 5.77, ('train', 'car'): 6.31, ('telephone', 'communication'): 7.5, ('television', 'radio'): 6.77, ('drug', 'abuse'): 6.85, ('bread', 'butter'): 6.19, ('doctor', 'nurse'): 7.0, ('professor', 'doctor'): 6.62, ('student', 'professor'): 6.81, ('smart', 'student'): 4.62, ('smart', 'stupid'): 5.81, ('company', 'stock'): 7.08, ('stock', 'market'): 8.08, ('stock', 'phone'): 1.62, ('stock', 'egg'): 1.81, ('stock', 'live'): 3.73, ('stock', 'life'): 0.92, ('book', 'library'): 7.46, ('bank', 'money'): 8.12, ('wood', 'forest'): 7.73, ('money', 'cash'): 9.08, ('king', 'queen'): 8.58, ('bishop', 'rabbi'): 6.69, ('holy', 'sex'): 1.62, ('football', 'basketball'): 6.81, ('football', 'tennis'): 6.63, ('tennis', 'racket'): 7.56, ('law', 'lawyer'): 8.38, ('movie', 'star'): 7.38, ('movie', 'critic'): 6.73, ('movie', 'theater'): 7.92, ('space', 'chemistry'): 4.88, ('alcohol', 'chemistry'): 5.54, ('drink', 'car'): 3.04, ('drink', 'ear'): 1.31, ('drink', 'mouth'): 5.96, ('drink', 'eat'): 6.87, ('baby', 'mother'): 7.85, ('drink', 'mother'): 2.65, ('car', 'automobile'): 8.94, ('journey', 'voyage'): 9.29, ('coast', 'shore'): 9.1, ('food', 'fruit'): 7.52, ('bird', 'cock'): 7.1, ('tool', 'implement'): 6.46, ('brother', 'monk'): 6.27, ('journey', 'car'): 5.85, ('coast', 'hill'): 4.38, ('forest', 'graveyard'): 1.85, ('monk', 'slave'): 0.92, ('coast', 'forest'): 3.15, ('chord', 'smile'): 0.54, ('noon', 'string'): 0.54, ('money', 'dollar'): 8.42, ('money', 'currency'): 9.04, ('money', 'wealth'): 8.27, ('money', 'property'): 7.57, ('money', 'possession'): 7.29, ('money', 'bank'): 8.5, ('money', 'deposit'): 7.73, ('money', 'operation'): 3.31, ('tiger', 'animal'): 7.0, ('tiger', 'organism'): 4.77, ('tiger', 'zoo'): 5.87, ('psychology', 'anxiety'): 7.0, ('psychology', 'fear'): 6.85, ('psychology', 'depression'): 7.42, ('psychology', 'doctor'): 6.42, ('psychology', 'mind'): 7.69, ('psychology', 'health'): 7.23, ('psychology', 'science'): 6.71, ('psychology', 'discipline'): 5.58, ('planet', 'star'): 8.45, ('planet', 'moon'): 8.08, ('planet', 'sun'): 8.02, ('planet', 'galaxy'): 8.11, ('planet', 'space'): 7.92, ('precedent', 'example'): 5.85, ('precedent', 'information'): 3.85, ('precedent', 'law'): 6.65, ('precedent', 'collection'): 2.5, ('precedent', 'group'): 1.77, ('cup', 'coffee'): 6.58, ('cup', 'article'): 2.4, ('cup', 'object'): 3.69, ('cup', 'entity'): 2.15, ('cup', 'drink'): 7.25, ('cup', 'food'): 5.0, ('cup', 'substance'): 1.92, ('cup', 'liquid'): 5.9}\n"
     ]
    }
   ],
   "source": [
    "import nltk\n",
    "from nltk.corpus import brown\n",
    "from nltk.corpus import wordnet\n",
    "\n",
    "nltk.download(\"brown\")\n",
    "nltk.download(\"wordnet\")\n",
    "\n",
    "# filtered_gold_standard stores the word pairs and their human-annotated similarity in your filtered test set\n",
    "filtered_gold_standard = {}\n",
    "set1 = open(\"set1.tab\")\n",
    "paras = brown.paras()\n",
    "\n",
    "# lemmatizer\n",
    "lemmatizer = nltk.stem.wordnet.WordNetLemmatizer()\n",
    "\n",
    "\n",
    "def lemmatize(word):\n",
    "    lemma = lemmatizer.lemmatize(word,'v')\n",
    "    if lemma == word:\n",
    "        lemma = lemmatizer.lemmatize(word,'n')\n",
    "    return lemma\n",
    "\n",
    "\n",
    "\n",
    "brown_corpus = []\n",
    "for para in paras:\n",
    "    new_para = set()\n",
    "    for line in para:\n",
    "        for word in line:\n",
    "            if word.isalpha():\n",
    "                modified_word = word.lower()\n",
    "                modified_word = lemmatize(modified_word)\n",
    "                new_para.add(modified_word)\n",
    "    brown_corpus.append(new_para)\n",
    "\n",
    "# original len(filtered_gold_standard） = 152\n",
    "# goal len = 94\n",
    "for line in set1:\n",
    "    # type(line) = str\n",
    "    splited_line = line.split( )\n",
    "    if splited_line[0] == \"Word\":\n",
    "        continue\n",
    "    length0 = len([True for line in brown_corpus if splited_line[0] in line])\n",
    "    length1 = len([True for line in brown_corpus if splited_line[1] in line])\n",
    "    if length1 >= 8 and length0 >= 8:\n",
    "        value = float(splited_line[2])\n",
    "        filtered_gold_standard[splited_line[0],splited_line[1]] = value\n",
    "\n",
    "print(len(filtered_gold_standard))\n",
    "print(filtered_gold_standard)\n"
   ]
  },
  {
   "cell_type": "markdown",
   "metadata": {
    "colab_type": "text",
    "id": "JTt3T9fycY4p"
   },
   "source": [
    "<b>For your testing: </b>"
   ]
  },
  {
   "cell_type": "code",
   "execution_count": 3,
   "metadata": {
    "colab": {},
    "colab_type": "code",
    "id": "PCkSP91lcY4q"
   },
   "outputs": [],
   "source": [
    "assert(len(brown_corpus)==15667)\n",
    "assert(len(filtered_gold_standard) > 50 and len(filtered_gold_standard) < 100)\n",
    "assert(filtered_gold_standard[('love', 'sex')] == 6.77)"
   ]
  },
  {
   "cell_type": "markdown",
   "metadata": {
    "colab_type": "text",
    "id": "zknFIccAcY40"
   },
   "source": [
    "### Question 2 (1.0 mark)\n",
    "\n",
    "<b>Instructions</b>: Here, you apply the second filtering. The second filtering is based on words with highly ambiguous senses and involves using the NLTK interface to WordNet. Here, you should remove any words which do not have a **single primary sense**. We define single primary sense here as either: (a) having only one sense (i.e. only one synset), or (b) where the count (as provided by the WordNet `count()` method for the lemmas associated with a synset) of the most common sense is at least 4 times larger than the next most common sense. Note that a synset can be associated with multiple lemmas. You should only consider the count of your lemma.\n",
    "\n",
    "Note: You should lowercase the lemmas of a synset when matching your word; and if there are multiple lowercased lemmas that match your word, you should sum up the count of all matching lemmas.\n",
    "\n",
    "Additionally, you should remove any words where the primary sense is **not a noun** (this information is also in the synset). Store the synset corresponding to this primary sense in a dictionary for use in the next section.\n",
    "\n",
    "Given this definition, remove the word pairs from the test set where at least one of the words does not meet the above criteria. When you have applied the two filtering steps, you should store all the word pair and similarity mappings in your filtered test set in a dictionary called *final_gold_standard*.\n",
    "\n",
    "**Task**: Filter word pairs for any words which do not have a single primary sense and aren't nouns. Produce *final_gold_standard*, a dictionary of filtered word pairs with human similarity ratings. Note: this second filtering is applied on top of the first filtering (question 1). In other words, you shouldn't consider any word pairs that have already been discarded by the first filtering in this question.\n",
    "\n",
    "**Check**: Use the assertion statements in *\"For your testing\"* for the expected *final_gold_standard*."
   ]
  },
  {
   "cell_type": "code",
   "execution_count": 4,
   "metadata": {
    "colab": {
     "base_uri": "https://localhost:8080/",
     "height": 71
    },
    "colab_type": "code",
    "executionInfo": {
     "elapsed": 919,
     "status": "ok",
     "timestamp": 1588139482398,
     "user": {
      "displayName": "Jey Han Lau",
      "photoUrl": "",
      "userId": "09065329932778503205"
     },
     "user_tz": -600
    },
    "id": "W6rdnrOXcY41",
    "outputId": "8d2391db-d5c0-4ea2-ea83-850e79bffd5c",
    "scrolled": false
   },
   "outputs": [
    {
     "name": "stdout",
     "output_type": "stream",
     "text": [
      "26\n",
      "{('bread', 'butter'): 6.19, ('professor', 'doctor'): 6.62, ('student', 'professor'): 6.81, ('stock', 'egg'): 1.81, ('money', 'cash'): 9.08, ('king', 'queen'): 8.58, ('bishop', 'rabbi'): 6.69, ('football', 'basketball'): 6.81, ('football', 'tennis'): 6.63, ('alcohol', 'chemistry'): 5.54, ('baby', 'mother'): 7.85, ('car', 'automobile'): 8.94, ('journey', 'voyage'): 9.29, ('coast', 'shore'): 9.1, ('brother', 'monk'): 6.27, ('journey', 'car'): 5.85, ('coast', 'hill'): 4.38, ('forest', 'graveyard'): 1.85, ('monk', 'slave'): 0.92, ('coast', 'forest'): 3.15, ('psychology', 'doctor'): 6.42, ('psychology', 'mind'): 7.69, ('psychology', 'health'): 7.23, ('psychology', 'science'): 6.71, ('planet', 'moon'): 8.08, ('planet', 'galaxy'): 8.11}\n"
     ]
    }
   ],
   "source": [
    "# final_gold_standard stores the word pairs and their human-annotated similarity in your final filtered test set\n",
    "final_gold_standard = {}\n",
    "word_primarysense = {} #a dictionary of (word, primary_sense) (used for next section); primary_sense is a synset\n",
    "\n",
    "def is_SinglePrimarySense (word):\n",
    "    syns = wordnet.synsets(word)\n",
    "    if len(syns) == 1 and syns[0].pos() == 'n':\n",
    "        word_primarysense[word] = syns[0]\n",
    "        return True\n",
    "    max_count = []\n",
    "    for synset in syns:\n",
    "        lemmas = synset.lemmas()\n",
    "        count = 0\n",
    "        for lemma in lemmas :\n",
    "            if lemma.name() == word:\n",
    "                count += lemma.count()\n",
    "        max_count.append(count)\n",
    "    largest = max(max_count)\n",
    "    index = max_count.index(largest)\n",
    "    max_count.sort()\n",
    "    second_max = max_count[-2]\n",
    "\n",
    "    if largest == 0 and second_max == 0:\n",
    "        return False\n",
    "\n",
    "    if  syns[index].pos() == 'n' and largest >= 4 * second_max :\n",
    "        word_primarysense[word] = syns[index]\n",
    "        return True\n",
    "    return False\n",
    "\n",
    "for word in filtered_gold_standard:\n",
    "    (key1,key2) = word\n",
    "    if is_SinglePrimarySense(key1) and is_SinglePrimarySense(key2):\n",
    "        final_gold_standard[key1,key2] = filtered_gold_standard[key1,key2]\n",
    "\n",
    "print(len(final_gold_standard))\n",
    "print(final_gold_standard)"
   ]
  },
  {
   "cell_type": "markdown",
   "metadata": {
    "colab_type": "text",
    "id": "cWgLNH3LcY45"
   },
   "source": [
    "<b>For your testing:</b>"
   ]
  },
  {
   "cell_type": "code",
   "execution_count": 5,
   "metadata": {
    "colab": {},
    "colab_type": "code",
    "id": "th1NNkYZcY45"
   },
   "outputs": [],
   "source": [
    "assert(len(final_gold_standard) > 10 and len(final_gold_standard) < 40)\n",
    "assert(final_gold_standard[('professor', 'doctor')] == 6.62)"
   ]
  },
  {
   "cell_type": "markdown",
   "metadata": {
    "colab_type": "text",
    "id": "CnVPXtiLcY5E"
   },
   "source": [
    "## 2. Computing word similiarity with Lin similarity, NPMI and LSA (3 marks)"
   ]
  },
  {
   "cell_type": "markdown",
   "metadata": {
    "colab_type": "text",
    "id": "rSK4x4IBcY5F"
   },
   "source": [
    "### Question 3 (1.0 mark)\n",
    "\n",
    "<b>Instructions</b>: Now you will create several dictionaries with similarity scores for pairs of words in your test set derived using the techniques discussed in class. The first of these is the Lin similarity for your word pairs using the information content of the Brown corpus, which you should calculate using the primary sense for each word derived above. You can use the built-in method included in the NLTK interface, you don't have to implement your own. \n",
    "\n",
    "When you're done, you should store the word pair and similarity mappings in a dictionary called *lin_similarities*.\n",
    "\n",
    "**Task**: Compute word pair similarity using Lin similarity for the test set. Produce *lin_similarities*, a dictionary of word pairs (keys) and computed Lin similarity scores (values).\n",
    "\n",
    "**Check**: Use the assertion statements in *\"For your testing\"* below for the expected *lin_similarities*. "
   ]
  },
  {
   "cell_type": "code",
   "execution_count": 6,
   "metadata": {
    "colab": {},
    "colab_type": "code",
    "id": "spSqNWwbcY5G",
    "outputId": "ae435270-a164-462d-82e9-eb65e8a79c7b",
    "scrolled": true
   },
   "outputs": [
    {
     "name": "stderr",
     "output_type": "stream",
     "text": [
      "[nltk_data] Downloading package wordnet_ic to\n",
      "[nltk_data]     /Users/chenchiyu/nltk_data...\n",
      "[nltk_data]   Package wordnet_ic is already up-to-date!\n"
     ]
    },
    {
     "name": "stdout",
     "output_type": "stream",
     "text": [
      "{('bread', 'butter'): 0.711420490146294, ('professor', 'doctor'): 0.7036526610448273, ('student', 'professor'): 0.26208607023317687, ('stock', 'egg'): -0.0, ('money', 'cash'): 0.7888839126424345, ('king', 'queen'): 0.25872135992145145, ('bishop', 'rabbi'): 0.6655650900427844, ('football', 'basketball'): 0.7536025025710653, ('football', 'tennis'): 0.7699955045932811, ('alcohol', 'chemistry'): 0.062235427146896456, ('baby', 'mother'): 0.6315913189894092, ('car', 'automobile'): 1.0, ('journey', 'voyage'): 0.6969176573027711, ('coast', 'shore'): 0.9632173804623256, ('brother', 'monk'): 0.24862817480738675, ('journey', 'car'): -0.0, ('coast', 'hill'): 0.5991131628821826, ('forest', 'graveyard'): -0.0, ('monk', 'slave'): 0.2543108201944307, ('coast', 'forest'): -0.0, ('psychology', 'doctor'): -0.0, ('psychology', 'mind'): 0.304017384194818, ('psychology', 'health'): 0.06004979886905243, ('psychology', 'science'): 0.8474590505736942, ('planet', 'moon'): 0.14532306834462655, ('planet', 'galaxy'): -0.0}\n"
     ]
    }
   ],
   "source": [
    "from nltk.corpus import wordnet_ic\n",
    "nltk.download('wordnet_ic')\n",
    "brown_ic = wordnet_ic.ic('ic-brown.dat')\n",
    "# lin_similarities stores the word pair and Lin similarity mappings\n",
    "lin_similarities = {}\n",
    "\n",
    "for word in final_gold_standard:\n",
    "    (key1,key2) = word\n",
    "    syns1 = word_primarysense[key1]\n",
    "    syns2 = word_primarysense[key2]\n",
    "    score = syns1.lin_similarity(syns2,brown_ic)\n",
    "    lin_similarities[word] = score\n",
    "print(lin_similarities)"
   ]
  },
  {
   "cell_type": "markdown",
   "metadata": {
    "colab_type": "text",
    "id": "GDbnoh-qcY5I"
   },
   "source": [
    "<b>For your testing:</b>"
   ]
  },
  {
   "cell_type": "code",
   "execution_count": 7,
   "metadata": {
    "colab": {},
    "colab_type": "code",
    "id": "yH_6wsW6cY5J"
   },
   "outputs": [],
   "source": [
    "assert(lin_similarities[('professor', 'doctor')] > 0.5 and lin_similarities[('professor', 'doctor')] < 1)"
   ]
  },
  {
   "cell_type": "markdown",
   "metadata": {
    "colab_type": "text",
    "id": "m7FXoMudcY5P"
   },
   "source": [
    "### Question 4 (1.0 mark)\n",
    "\n",
    "**Instructions:** Next, you will calculate Normalized PMI (NPMI) for your word pairs using word frequency derived from the Brown.\n",
    "\n",
    "PMI is defined as:\n",
    "\n",
    "\\begin{equation*}\n",
    "PMI = \\log_2\\left(\\frac{p(x,y)}{p(x)p(y)}\\right)\n",
    "\\end{equation*}\n",
    "\n",
    "where\n",
    "\n",
    "\\begin{equation*}\n",
    "p(x,y) = \\frac{\\text{Number of paragraphs with the co-occurrence of x and y}}{\\sum_i \\text{Number of word types in paragraph}_i}\n",
    "\\end{equation*}\n",
    "\n",
    "\\begin{equation*}\n",
    "p(x) = \\frac{\\text{Number of paragraphs with the occurrence of x}}{\\sum_i \\text{Number of word types in paragraph}_i}\n",
    "\\end{equation*}\n",
    "\n",
    "\\begin{equation*}\n",
    "p(y) = \\frac{\\text{Number of paragraphs with the occurrence of y}}{\\sum_i \\text{Number of word types in paragraph}_i}\n",
    "\\end{equation*}\n",
    "\n",
    "with the sum over $i$ ranging over all paragraphs. Note that there are other ways PMI could be formulated.\n",
    "\n",
    "NPMI is defined as:\n",
    "\n",
    "\\begin{equation*}\n",
    "NPMI = \\frac{PMI}{-log_2(p(x,y))} = \\frac{log_2(p(x)p(y))}{log_2(p(x,y))} - 1\n",
    "\\end{equation*}\n",
    "\n",
    "Thus, when there is no co-occurrence, NPMI is -1. NPMI is normalized between [-1, +1]. \n",
    "\n",
    "You should use the *brown_corpus* object you've created in question 1 as your corpus here. You need to use the basic method for calculating PMI introduced in class (and also in the reading) which is appropriate for any possible definition of co-occurrence (here, there is co-occurrence when a word pair appears in the same paragraph), but you should only calculate PMI for the words in your test set. You must avoid building the entire co-occurrence matrix, instead you should keeping track of the sums you need for the probabilities as you go along. \n",
    "\n",
    "When you have calculated NPMI for all the pairs, you should store the word pair and NPMI-similarity mappings in a dictionary called *NPMI_similarities*.\n",
    "\n",
    "**Task**: Compute word pair similarity using NPMI similarity for the test set. Produce *NPMI_similarities*, a dictionary of word pairs (keys) and computed NPMI similarity scores (values).\n",
    "\n",
    "**Check**: Use the assertion statements in *\"For your testing\"* below for the expected *NPMI_similarities*."
   ]
  },
  {
   "cell_type": "code",
   "execution_count": 8,
   "metadata": {
    "colab": {},
    "colab_type": "code",
    "id": "1yoPO9BecY5Q",
    "outputId": "8d7588a5-c769-468e-9c3d-7ca5026e6f4b",
    "scrolled": false
   },
   "outputs": [
    {
     "name": "stdout",
     "output_type": "stream",
     "text": [
      "{('bread', 'butter'): 4.8899755359803985, ('professor', 'doctor'): -1, ('student', 'professor'): 3.372318892893526, ('stock', 'egg'): -1, ('money', 'cash'): 7.2246930554531925, ('king', 'queen'): -1, ('bishop', 'rabbi'): -1, ('football', 'basketball'): 4.1826583386441385, ('football', 'tennis'): -1, ('alcohol', 'chemistry'): -1, ('baby', 'mother'): 3.859919175625194, ('car', 'automobile'): 3.2061239639918524, ('journey', 'voyage'): -1, ('coast', 'shore'): 4.036673263375656, ('brother', 'monk'): -1, ('journey', 'car'): -1, ('coast', 'hill'): -1, ('forest', 'graveyard'): -1, ('monk', 'slave'): -1, ('coast', 'forest'): 10.953105150591341, ('psychology', 'doctor'): -1, ('psychology', 'mind'): 11.16804526822409, ('psychology', 'health'): -1, ('psychology', 'science'): 5.588109623912985, ('planet', 'moon'): 3.5094673246410277, ('planet', 'galaxy'): -1}\n"
     ]
    }
   ],
   "source": [
    "import math\n",
    "# NPMI_similarities stores the word pair and NPMI similarity mappings\n",
    "NPMI_similarities = {}\n",
    "\n",
    "def npmi_calculator (word):\n",
    "    number_paras = 0\n",
    "    para_number = 0\n",
    "    para_index = []\n",
    "    for para in brown_corpus:\n",
    "        para_number += 1\n",
    "        if word in para:\n",
    "            number_paras += 1\n",
    "            para_index.append(para_number)\n",
    "\n",
    "    return number_paras, para_index\n",
    "\n",
    "for pair in final_gold_standard:\n",
    "    (key1, key2) = pair\n",
    "    (number1, list1) = npmi_calculator(key1)\n",
    "    (number2, list2) = npmi_calculator(key2)\n",
    "    common_num = len(list(set(list1).intersection(list2)))\n",
    "    if common_num == 0:\n",
    "        value = -1\n",
    "    elif math.log2(common_num) == 0:\n",
    "        value = -1\n",
    "    else:\n",
    "        value = (math.log2(number1*number2)/math.log2(common_num))-1\n",
    "    NPMI_similarities[key1, key2] = value\n",
    "\n",
    "print(NPMI_similarities)"
   ]
  },
  {
   "cell_type": "markdown",
   "metadata": {
    "colab_type": "text",
    "id": "1uJbBXzfcY5S"
   },
   "source": [
    "<b>For your testing:</b>"
   ]
  },
  {
   "cell_type": "code",
   "execution_count": 9,
   "metadata": {
    "colab": {},
    "colab_type": "code",
    "id": "-nhg3YOBcY5S"
   },
   "outputs": [],
   "source": [
    "assert(NPMI_similarities[('professor', 'doctor')] == -1)"
   ]
  },
  {
   "cell_type": "markdown",
   "metadata": {
    "colab_type": "text",
    "id": "1hfkyiBkcY5a"
   },
   "source": [
    "### Question 5 (1.0 mark)\n",
    "\n",
    "**Instructions:** Here we'll use singular value decomposition (SVD) to derive similarity scores using the Latent Semantic Analysis (LSA) method. Recall that LSA applies SVD and truncation to get a dense vector representation of a word type. To measure similarity between two words we calculate cosine similarity between the LSA vectors of the words.\n",
    "\n",
    "We'll first build a term-document frequency matrix (as before, a document is a paragraph in Brown corpus). That is, the rows corresponds to words in the vocabulary, and the columns represent the paragraphs/documents in Brown corpus. Each cell records the document frequency of a word (1 if the word appears in the document, 0 otherwise). You should use the *brown_corpus* object created in question 1 as your corpus to build the term-document frequency matrix.\n",
    "\n",
    "Given the term-document frequency matrix, we'll use `truncatedSVD` in `sklearn` to produce dense vectors of length k = 500, and then use cosine similarity to produce similarities for the word pairs in the test set.\n",
    "\n",
    "You can use the workshop's notebook on distributional similarity (``09-distributional-similarity.ipynb``) as a starting point, but note that we use term-document frequency matrix (as opposed to the tf-idf matrix in the workshop).\n",
    "\n",
    "When you are done, you should store the word pair and LSA-similarity mappings in a dictionary called *LSA_similarities*.\n",
    "\n",
    "**Task**: Compute word pair similarity using LSA. Produce *LSA_similarities*, a dictionary of word pairs (keys) and computed LSA similarity scores (values).\n",
    "\n",
    "**Check**: Use the assertion statements in *\"For your testing\"* below for the expected *LSA_similarities*. \n",
    "\n"
   ]
  },
  {
   "cell_type": "code",
   "execution_count": 10,
   "metadata": {
    "colab": {
     "base_uri": "https://localhost:8080/",
     "height": 54
    },
    "colab_type": "code",
    "executionInfo": {
     "elapsed": 17315,
     "status": "ok",
     "timestamp": 1588148041794,
     "user": {
      "displayName": "Jey Han Lau",
      "photoUrl": "",
      "userId": "09065329932778503205"
     },
     "user_tz": -600
    },
    "id": "5qg8WfjVcY5b",
    "outputId": "417407a8-5d17-44c7-e81a-906e9335b42f",
    "scrolled": false
   },
   "outputs": [
    {
     "name": "stdout",
     "output_type": "stream",
     "text": [
      "{('bread', 'butter'): 0.29427295333001324, ('professor', 'doctor'): 0.005220281536794607, ('student', 'professor'): 0.30715641106235236, ('stock', 'egg'): 0.11783108485598295, ('money', 'cash'): 0.10654937221631394, ('king', 'queen'): 0.11371494914021928, ('bishop', 'rabbi'): 0.05549924988002743, ('football', 'basketball'): 0.2470124793772859, ('football', 'tennis'): 0.154090861403571, ('alcohol', 'chemistry'): 0.12127802391047723, ('baby', 'mother'): 0.3550061721823996, ('car', 'automobile'): 0.36646966255762753, ('journey', 'voyage'): 0.10442480523634148, ('coast', 'shore'): 0.3823884140991418, ('brother', 'monk'): 0.04822940429118939, ('journey', 'car'): 0.007271253286969193, ('coast', 'hill'): 0.22920017374687304, ('forest', 'graveyard'): 0.04384854507074816, ('monk', 'slave'): -0.014477222502856216, ('coast', 'forest'): 0.15079414107052821, ('psychology', 'doctor'): 0.1468259815790673, ('psychology', 'mind'): 0.12958806165232414, ('psychology', 'health'): 0.08443943978454564, ('psychology', 'science'): 0.28817404213372355, ('planet', 'moon'): 0.4215137318490914, ('planet', 'galaxy'): 0.07671510550385367}\n"
     ]
    }
   ],
   "source": [
    "import numpy as np\n",
    "from numpy.linalg import norm\n",
    "from sklearn.feature_extraction import DictVectorizer\n",
    "from sklearn.decomposition import TruncatedSVD\n",
    "# LSA_similarities stores the word pair and LSA similarity mappings\n",
    "LSA_similarities = {}\n",
    "vec = DictVectorizer()\n",
    "svd = TruncatedSVD(n_components=500)\n",
    "\n",
    "texts = []\n",
    "for para in brown_corpus:\n",
    "    a = {}\n",
    "    for word in para:\n",
    "        a[word] = 1\n",
    "    texts.append(a)\n",
    "\n",
    "brown_matrix = vec.fit_transform(texts)\n",
    "brown_matrix_transposed = brown_matrix.transpose()\n",
    "brown_matrix_transposed = svd.fit_transform(brown_matrix_transposed)\n",
    "\n",
    "def cos_sim(a, b):\n",
    "    return np.dot(a, b)/(norm(a)*norm(b))\n",
    "\n",
    "for pair in final_gold_standard:\n",
    "    (key1,key2) = pair\n",
    "    v1 = brown_matrix_transposed[vec.vocabulary_[key1]]\n",
    "    v2 = brown_matrix_transposed[vec.vocabulary_[key2]]\n",
    "    score = cos_sim(v1,v2)\n",
    "    LSA_similarities[key1,key2] = score\n",
    "print(LSA_similarities)"
   ]
  },
  {
   "cell_type": "markdown",
   "metadata": {
    "colab_type": "text",
    "id": "dLtjcNgIcY5d"
   },
   "source": [
    "<b>For your testing:</b>"
   ]
  },
  {
   "cell_type": "code",
   "execution_count": 11,
   "metadata": {
    "colab": {},
    "colab_type": "code",
    "id": "oZ0sUZbNcY5e"
   },
   "outputs": [],
   "source": [
    "assert(LSA_similarities[('professor', 'doctor')] > 0 and LSA_similarities[('professor', 'doctor')] < 0.4)"
   ]
  },
  {
   "cell_type": "markdown",
   "metadata": {},
   "source": [
    "## Computing word similarity with feedforward language model (3 marks)"
   ]
  },
  {
   "cell_type": "markdown",
   "metadata": {},
   "source": [
    "### Question 6 (1.0 mark)\n",
    "\n",
    "**Instructions**: Here we'll build a n-gram neural language model to learn word embeddings, and compute word similarity based on the word embeddings. As before we will use the Brown corpus as training data for our language model, and the first step is to collect the vocabulary.\n",
    "\n",
    "As before, we'll treat paragraphs in the Brown corpus as our documents. The first 12K paragraphs/documents will serve as our training data, and the rest (3K+ documents) as development data. The first step towards building a language model is to collect the vocabulary, i.e. the set of unique word types in our training data. When collecting the word types, you should lowercase all words, and only keep word types that have a frequency $>= 5$. Store your vocabulary in the _vocab_ object.\n",
    "\n",
    "Note: \n",
    "  - we'll be using _$<$UNK$>$_ to represent unseen words, and so _vocab_ is initialised with the special _$<$UNK$>$_.\n",
    "  - you do not need to do any other additional preprocessing aside from the aforementioned steps (e.g. no need to remove symbols, etc)\n",
    "  - you should not use *brown_corpus* here, as you need the words in their original order (*brown_corpus* stores a set of words for each paragraph, and so do not contain word order information)\n",
    "\n",
    "**Task**: Collect a set of unique word types in the training portion (first 12K paragraphs) of the Brown corpus. Produce _vocab_, which is a set that contains all the word types.\n",
    "\n",
    "**Check**: Use the assertion statements in *\"For your testing\"* below to check the vocabulary size."
   ]
  },
  {
   "cell_type": "code",
   "execution_count": 12,
   "metadata": {
    "colab": {
     "base_uri": "https://localhost:8080/",
     "height": 241
    },
    "colab_type": "code",
    "executionInfo": {
     "elapsed": 14058,
     "status": "ok",
     "timestamp": 1588144253884,
     "user": {
      "displayName": "Jey Han Lau",
      "photoUrl": "",
      "userId": "09065329932778503205"
     },
     "user_tz": -600
    },
    "id": "u2HdOXvYcY5k",
    "outputId": "1b84d6be-d0cd-4bf5-f580-619f122b59b6"
   },
   "outputs": [
    {
     "name": "stdout",
     "output_type": "stream",
     "text": [
      "12681\n"
     ]
    }
   ],
   "source": [
    "from collections import Counter\n",
    "num_train = 12000\n",
    "UNK_symbol = \"<UNK>\"\n",
    "vocab = set([UNK_symbol])\n",
    "wordlist = []\n",
    "i = 0\n",
    "for para in paras:\n",
    "    i += 1\n",
    "    if i == num_train:\n",
    "        break\n",
    "    for lines in para:\n",
    "        for word in lines:\n",
    "            word = word.lower()\n",
    "            wordlist.append(word)\n",
    "word_freq = Counter(wordlist)\n",
    "threshold = 5\n",
    "filtered = {x : word_freq[x] for x in word_freq if word_freq[x] >= threshold}\n",
    "\n",
    "for x,v in filtered.items():\n",
    "    vocab.add(x)\n",
    "\n",
    "print(len(vocab))"
   ]
  },
  {
   "cell_type": "markdown",
   "metadata": {},
   "source": [
    "**For your testing:**"
   ]
  },
  {
   "cell_type": "code",
   "execution_count": 13,
   "metadata": {},
   "outputs": [],
   "source": [
    "assert(len(vocab) > 8000 and len(vocab) < 20000)"
   ]
  },
  {
   "cell_type": "markdown",
   "metadata": {},
   "source": [
    "### Question 7 (1.0 mark)\n",
    "\n",
    "**Instructions**: As we'll be building a trigram neural language model (based on lecture 7, page 20), the next step is to collect trigrams to construct our training data. In a trigram neural language model, for example if we have the trigram _cow eats grass_, the input to the model is the first two terms of a trigram (_cow_ and _eats_), and the language model's aim is to predict the last term of the trigram (_grass_). Your task here is to construct the training and development data for the language model. Just like the previous step, the first 12K paragraphs will serve as our training data, and the remaining 3K+ will be for development. You'll need to map words into IDs when constructing the training and development data. Any words that are not in _vocab_ should be mapped to the special _$<$UNK$>$_ symbol.\n",
    "\n",
    "As an example, given the sentence \"_a big fat hungry cow ._\", you should create the following training examples:\n",
    "\n",
    "|input|target|\n",
    "|:---:|:----:|\n",
    "|<i>a</i>, _big_|_fat_|\n",
    "|_big_, _fat_|_hungry_|\n",
    "|_fat_, _hungry_|_cow_|\n",
    "|_hungry_, _cow_|_._|\n",
    "\n",
    "\n",
    "Note:\n",
    "   - _vocab_ is a set and so does not map words into IDs. You'll need to create a word to ID mapping first based on _vocab_.\n",
    "   - A trigram should not cross sentence boundary.\n",
    "   - You should ignore sentences that have less than 3 words (as they are too short to form trigrams).\n",
    "   - We won't need special starting symbol when collecting the trigrams, as we are only interested in learning word embeddings here (and not computing probabilities of a sentence).\n",
    "\n",
    "\n",
    "**Task**: Create training and development data. The training input and target data should be stored in the <i>x_train</i> and <i>y_train</i> respectively, and development input and target data in <i>x_dev</i> and <i>y_dev</i> respectively.\n",
    "\n",
    "**Check**: Use the assertion statements in *\"For your testing\"* below for the expected shape of the outputs."
   ]
  },
  {
   "cell_type": "code",
   "execution_count": 14,
   "metadata": {},
   "outputs": [
    {
     "name": "stdout",
     "output_type": "stream",
     "text": [
      "(872823, 2)\n",
      "(872823,)\n",
      "(174016, 2)\n",
      "(174016,)\n"
     ]
    }
   ],
   "source": [
    "to_id = dict.fromkeys(vocab)\n",
    "i = 0\n",
    "for id in to_id:\n",
    "    to_id[id] = i\n",
    "    i += 1\n",
    "\n",
    "def word_to_id (word):\n",
    "    if word in to_id.keys():\n",
    "        id = to_id[word]\n",
    "    else:\n",
    "        id = to_id['<UNK>']\n",
    "    return id\n",
    "\n",
    "train_input = []\n",
    "train_output = []\n",
    "dev_input = []\n",
    "dev_output = []\n",
    "iter = 0\n",
    "for para in paras:\n",
    "    # lines_input = []\n",
    "    # lines_output = []\n",
    "    l = 0\n",
    "    for line in para:\n",
    "        if len(line) >= 3:\n",
    "            for indx in range(0, len(line) - 2):\n",
    "                pair_input = []\n",
    "                input1_id = word_to_id(paras[iter][l][indx])\n",
    "                input2_id = word_to_id(paras[iter][l][indx + 1])\n",
    "                pair_input.append(input1_id)\n",
    "                pair_input.append(input2_id)\n",
    "                output_id = word_to_id(paras[iter][l][indx + 2])\n",
    "                if iter <= 11999:\n",
    "                    train_input.append(pair_input)\n",
    "                    train_output.append(output_id)\n",
    "                else:\n",
    "                    dev_input.append(pair_input)\n",
    "                    dev_output.append(output_id)\n",
    "        l +=1\n",
    "\n",
    "    iter += 1\n",
    "x_train = np.array(train_input)\n",
    "y_train = np.array(train_output)\n",
    "x_dev = np.array(dev_input)\n",
    "y_dev = np.array(dev_output)\n",
    "\n",
    "print(x_train.shape)\n",
    "print(y_train.shape)\n",
    "print(x_dev.shape)\n",
    "print(y_dev.shape)"
   ]
  },
  {
   "cell_type": "markdown",
   "metadata": {},
   "source": [
    "**For your testing:**"
   ]
  },
  {
   "cell_type": "code",
   "execution_count": 15,
   "metadata": {},
   "outputs": [],
   "source": [
    "assert(x_train.shape[0] == y_train.shape[0])\n",
    "assert(x_dev.shape[0] == y_dev.shape[0])\n",
    "assert(x_train.shape[0] > 500000)\n",
    "assert(x_dev.shape[0] > 50000)"
   ]
  },
  {
   "cell_type": "markdown",
   "metadata": {},
   "source": [
    "### Question 8 (1.0 mark)\n",
    "\n",
    "**Instructions**: Now let's build the trigram neural language model. We'll use the language model described in lecture 7 (page 20):\n",
    "\n",
    "$x' = e(x_1) \\oplus e(x_2)$\n",
    "\n",
    "$h = \\tanh(W_1 x' + b)$\n",
    "\n",
    "$y = $ softmax$(W_2 h)$\n",
    "\n",
    "where $\\oplus$ is the concatenation operation, $x_1$ and $x_2$ are the input words, $e$ is an embedding function, and $y$ is the target word. You can use either `keras` or `pytorch` for building your model.\n",
    "\n",
    "Set the dimension of the word embeddings and $h$ to 100, and train your model with 3 epochs with a batch size of 256. You will not need to tune hyper-parameters for this task.\n",
    "\n",
    "After the model is trained, use the word embeddings to compute word similarity in the test set. Store the similarity scores in a dictionary called *lm_similarities*.\n",
    "\n",
    "Note:\n",
    "  - For words in the test set that are not in your vocabulary, you should treat them as unknown words. In other words, you should use $<$UNK$>$'s embedding to represent these words.\n",
    "  - The training may take some time on CPU. You can run your notebook on colab with a GPU if you want faster training (see the programming exercise in workshop-07 if you're not familiar with colab)\n",
    "\n",
    "**Task**: Train a trigram neural language model, and use the learned word embeddings to compute word similarity. Produce *lm_similarities*, a dictionary that contains word pairs as keys and similarity scores as values."
   ]
  },
  {
   "cell_type": "code",
   "execution_count": 17,
   "metadata": {
    "colab": {
     "base_uri": "https://localhost:8080/",
     "height": 479
    },
    "colab_type": "code",
    "executionInfo": {
     "elapsed": 77894,
     "status": "ok",
     "timestamp": 1588147602713,
     "user": {
      "displayName": "Jey Han Lau",
      "photoUrl": "",
      "userId": "09065329932778503205"
     },
     "user_tz": -600
    },
    "id": "qlVRe-opcY5n",
    "outputId": "df59619c-9d39-4e47-fb70-5373dd1d06db"
   },
   "outputs": [
    {
     "name": "stderr",
     "output_type": "stream",
     "text": [
      "/Users/chenchiyu/anaconda3/lib/python3.7/site-packages/tensorflow_core/python/framework/indexed_slices.py:433: UserWarning: Converting sparse IndexedSlices to a dense Tensor of unknown shape. This may consume a large amount of memory.\n",
      "  \"Converting sparse IndexedSlices to a dense Tensor of unknown shape. \"\n"
     ]
    },
    {
     "name": "stdout",
     "output_type": "stream",
     "text": [
      "Train on 872823 samples, validate on 174016 samples\n",
      "Epoch 1/3\n",
      "872823/872823 [==============================] - 481s 551us/step - loss: 5.7550 - accuracy: 0.1533 - val_loss: 5.2366 - val_accuracy: 0.1718\n",
      "Epoch 2/3\n",
      "872823/872823 [==============================] - 443s 508us/step - loss: 5.2288 - accuracy: 0.1984 - val_loss: 5.0579 - val_accuracy: 0.1810\n",
      "Epoch 3/3\n",
      "872823/872823 [==============================] - 453s 519us/step - loss: 5.0704 - accuracy: 0.2096 - val_loss: 5.0014 - val_accuracy: 0.1839\n",
      "{('bread', 'butter'): 0.35088646, ('professor', 'doctor'): 0.33288732, ('student', 'professor'): 0.43797874, ('stock', 'egg'): 0.428409, ('money', 'cash'): 0.20795019, ('king', 'queen'): -0.19643265, ('bishop', 'rabbi'): 0.40476593, ('football', 'basketball'): 0.46123222, ('football', 'tennis'): 0.38590825, ('alcohol', 'chemistry'): 0.29604954, ('baby', 'mother'): 0.23705596, ('car', 'automobile'): 0.40982088, ('journey', 'voyage'): 0.4673323, ('coast', 'shore'): -0.1528068, ('brother', 'monk'): -0.012758859, ('journey', 'car'): 0.27233896, ('coast', 'hill'): 0.36517513, ('forest', 'graveyard'): 0.05388174, ('monk', 'slave'): 0.14450264, ('coast', 'forest'): 0.17329763, ('psychology', 'doctor'): 0.519257, ('psychology', 'mind'): 0.30247006, ('psychology', 'health'): 0.46108988, ('psychology', 'science'): 0.6959818, ('planet', 'moon'): 0.39616632, ('planet', 'galaxy'): -0.0335098}\n"
     ]
    }
   ],
   "source": [
    "from keras.models import Sequential\n",
    "from keras import layers\n",
    "from keras.preprocessing.sequence import pad_sequences\n",
    "\n",
    "\n",
    "lm_similarities = {}\n",
    "embedding_dim = 100\n",
    "maxlen = 30\n",
    "x_train = pad_sequences(x_train, padding='post', maxlen=maxlen)\n",
    "x_dev = pad_sequences(x_dev, padding='post', maxlen=maxlen)\n",
    "\n",
    "\n",
    "\n",
    "#model definition\n",
    "model = Sequential(name=\"feedforward-sequence-input\")\n",
    "model.add(layers.Embedding(input_dim= 50000,output_dim=embedding_dim,input_shape=(30,)))\n",
    "model.add(layers.Flatten())\n",
    "model.add(layers.Dense(64, activation='tanh'))\n",
    "model.add(layers.Dense(20000, activation='softmax'))\n",
    "model.compile(optimizer='adam',loss='sparse_categorical_crossentropy',metrics=['accuracy'])\n",
    "model.fit(x_train, y_train, epochs=3, verbose=True, validation_data=(x_dev, y_dev), batch_size=256)\n",
    "loss, accuracy = model.evaluate(x_dev, y_dev, verbose=False)\n",
    "embeddings = model.get_layer(index=0).get_weights()[0]\n",
    "\n",
    "for pair in final_gold_standard:\n",
    "    (key1,key2) = pair\n",
    "    v1 = embeddings[word_to_id(key1)]\n",
    "    v2 = embeddings[word_to_id(key2)]\n",
    "    score = cos_sim(v1,v2)\n",
    "    lm_similarities[key1,key2] = score\n",
    "\n",
    "print(lm_similarities)"
   ]
  },
  {
   "cell_type": "markdown",
   "metadata": {
    "colab_type": "text",
    "id": "qTgtO9-pcY5q"
   },
   "source": [
    "## 3. Comparison with the Gold Standard (1 mark)"
   ]
  },
  {
   "cell_type": "markdown",
   "metadata": {
    "colab_type": "text",
    "id": "5UpgjOKmcY5r"
   },
   "source": [
    "### Question 9 (1.0 mark)\n",
    "\n",
    "**Instructions:** Finally, you should compare all the similarities you've created to the gold standard you loaded and filtered in the first step. For this, you can use the Pearson correlation co-efficient (`pearsonr`), which is included in scipy (`scipy.stats`). Be careful converting your dictionaries to lists for this purpose, the data for the two datasets needs to be in the same order for correct comparison using correlation. Write a general function, then apply it to each of the similarity score dictionaries.\n",
    "\n",
    "When you are done, you should put the result in a dictionary called *pearson_correlations* (use the keys: 'lin', 'NPMI', 'LSA', 'lm').\n",
    "\n",
    "**Task**: Compute the Pearson correlation coefficient between the estimated similarity scores (Lin, NPMI and LSA similarities) and the gold standard similarity ratings. Produce *pearson_correlations*, a dictionary containing the methods as keys and correlations as values.\n",
    "\n",
    "**Check**: Use the assertion statements in *\"For your testing\"* below for the expected *pearson_correlations*. \n",
    "\n",
    "<b>Hint:</b> All of the methods used here should be markedly above 0, but also far from 1 (perfect correlation); if you're not getting reasonable results, go back and check your code for bugs! "
   ]
  },
  {
   "cell_type": "code",
   "execution_count": 19,
   "metadata": {
    "colab": {
     "base_uri": "https://localhost:8080/",
     "height": 34
    },
    "colab_type": "code",
    "executionInfo": {
     "elapsed": 843,
     "status": "ok",
     "timestamp": 1588147762343,
     "user": {
      "displayName": "Jey Han Lau",
      "photoUrl": "",
      "userId": "09065329932778503205"
     },
     "user_tz": -600
    },
    "id": "oAgJwXhxcY5r",
    "outputId": "0c5cc8f1-2aca-4fbc-cb1b-2c7a9529945d"
   },
   "outputs": [
    {
     "name": "stdout",
     "output_type": "stream",
     "text": [
      "{'lin': 0.4816502848357115, 'NPMI': 0.190932733416199, 'LSA': 0.40097897951173034, 'lm': -0.010646492613106406}\n"
     ]
    }
   ],
   "source": [
    "from scipy.stats import pearsonr\n",
    "\n",
    "# pearson_correlations stores the pearson correlations with the gold standard of 'lin', 'NPMI', 'LSA', 'lm'\n",
    "pearson_correlations = {}\n",
    "def convert_to_list (gold_dict,dict1,dict2,dict3,dict4):\n",
    "    gold_dict_list=[]\n",
    "    dict1_list=[]\n",
    "    dict2_list=[]\n",
    "    dict3_list=[]\n",
    "    dict4_list=[]\n",
    "    for pair in final_gold_standard:\n",
    "        gold_dict_list.append(gold_dict[pair])\n",
    "        dict1_list.append(dict1[pair])\n",
    "        dict2_list.append(dict2[pair])\n",
    "        dict3_list.append(dict3[pair])\n",
    "        dict4_list.append(dict4[pair])\n",
    "    return gold_dict_list,dict1_list,dict2_list,dict3_list,dict4_list\n",
    "goal,lin,npmi,lsa,lm=convert_to_list(final_gold_standard,lin_similarities,NPMI_similarities,LSA_similarities,lm_similarities)\n",
    "lin_score = pearsonr(lin,goal)\n",
    "NPMI_score = pearsonr(npmi,goal)\n",
    "LSA_score = pearsonr(lsa,goal)\n",
    "lm_score = pearsonr(lm,goal)\n",
    "pearson_correlations['lin'] = lin_score[0]\n",
    "pearson_correlations['NPMI'] = NPMI_score[0]\n",
    "pearson_correlations['LSA'] = LSA_score[0]\n",
    "pearson_correlations['lm'] = lm_score[0]\n",
    "print(pearson_correlations)"
   ]
  },
  {
   "cell_type": "markdown",
   "metadata": {
    "colab_type": "text",
    "id": "aV6PxadqcY5v"
   },
   "source": [
    "<b>For your testing:</b>"
   ]
  },
  {
   "cell_type": "code",
   "execution_count": 20,
   "metadata": {
    "colab": {},
    "colab_type": "code",
    "id": "q2fNHrT0cY5v"
   },
   "outputs": [],
   "source": [
    "assert(pearson_correlations['lin'] > 0.4 and pearson_correlations['lin'] < 0.8)"
   ]
  },
  {
   "cell_type": "markdown",
   "metadata": {
    "colab_type": "text",
    "id": "oIoExaG0cY51"
   },
   "source": [
    "## A final word\n",
    "\n",
    "Normally, we would not use a corpus as small as the Brown for the purposes of building word vectors. Also, note that filtering our test set to just words we are likely to do well on would typically be considered cheating."
   ]
  },
  {
   "cell_type": "code",
   "execution_count": null,
   "metadata": {
    "colab": {},
    "colab_type": "code",
    "id": "aCwCHklbcY52"
   },
   "outputs": [],
   "source": []
  }
 ],
 "metadata": {
  "accelerator": "GPU",
  "anaconda-cloud": {},
  "colab": {
   "collapsed_sections": [],
   "name": "word-similarity.ipynb",
   "provenance": [],
   "toc_visible": true
  },
  "kernelspec": {
   "display_name": "Python 3",
   "language": "python",
   "name": "python3"
  },
  "language_info": {
   "codemirror_mode": {
    "name": "ipython",
    "version": 3
   },
   "file_extension": ".py",
   "mimetype": "text/x-python",
   "name": "python",
   "nbconvert_exporter": "python",
   "pygments_lexer": "ipython3",
   "version": "3.7.3"
  }
 },
 "nbformat": 4,
 "nbformat_minor": 1
}
